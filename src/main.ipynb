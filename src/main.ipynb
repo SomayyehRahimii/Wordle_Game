{
 "cells": [
  {
   "cell_type": "code",
   "execution_count": 1,
   "metadata": {},
   "outputs": [
    {
     "name": "stdout",
     "output_type": "stream",
     "text": [
      "\u001b[41m\u001b[97m A \u001b[0m \u001b[41m\u001b[97m B \u001b[0m \u001b[42m\u001b[97m O \u001b[0m \u001b[41m\u001b[97m U \u001b[0m \u001b[41m\u001b[97m T \u001b[0m \n",
      "\u001b[42m\u001b[97m R \u001b[0m \u001b[43m\u001b[30m E \u001b[0m \u001b[41m\u001b[97m A \u001b[0m \u001b[42m\u001b[97m D \u001b[0m \u001b[41m\u001b[97m Y \u001b[0m \n",
      "\u001b[42m\u001b[97m R \u001b[0m \u001b[42m\u001b[97m H \u001b[0m \u001b[42m\u001b[97m O \u001b[0m \u001b[42m\u001b[97m D \u001b[0m \u001b[42m\u001b[97m E \u001b[0m \n",
      "\u001b[42m\u001b[97m Congrdulation! You win :-) \u001b[0m \n"
     ]
    }
   ],
   "source": [
    "from Wordle import Wordle\n",
    "from utils import print_correct, print_warning, print_error\n",
    "\n",
    "csv_file = 'unigram_freq.csv'\n",
    "txt_file ='words_frequency.txt'\n",
    "\n",
    "word_len = 5\n",
    "limit = 1000\n",
    "guess_num = 6\n",
    "\n",
    "success = False\n",
    "\n",
    "wordle = Wordle(csv_file, txt_file, word_len, limit, guess_num)\n",
    "wordle.run()\n",
    "\n",
    "if wordle.success == False:\n",
    "    print_warning(f'Game over. The word was \"{wordle.word}\"')"
   ]
  },
  {
   "cell_type": "code",
   "execution_count": null,
   "metadata": {},
   "outputs": [],
   "source": []
  }
 ],
 "metadata": {
  "kernelspec": {
   "display_name": "Python 3",
   "language": "python",
   "name": "python3"
  },
  "language_info": {
   "codemirror_mode": {
    "name": "ipython",
    "version": 3
   },
   "file_extension": ".py",
   "mimetype": "text/x-python",
   "name": "python",
   "nbconvert_exporter": "python",
   "pygments_lexer": "ipython3",
   "version": "3.12.3"
  }
 },
 "nbformat": 4,
 "nbformat_minor": 2
}
