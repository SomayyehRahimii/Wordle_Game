{
 "cells": [
  {
   "cell_type": "code",
   "execution_count": 1,
   "metadata": {},
   "outputs": [],
   "source": [
    "import random\n",
    "random.seed(42)\n",
    "\n",
    "from utils import print_correct, print_warning, print_error"
   ]
  },
  {
   "cell_type": "code",
   "execution_count": 2,
   "metadata": {},
   "outputs": [],
   "source": [
    "class Wordle:\n",
    "    def __init__(self, word_len, limit, guess_num):\n",
    "        self.word_len = word_len\n",
    "        self.limit = limit\n",
    "        self.guess_num = guess_num\n",
    "\n",
    "\n",
    "    def csv_to_txt(self, csv_file, txt_file):\n",
    "        with open(csv_file, 'r') as f:\n",
    "            with open(txt_file, 'w') as txt:\n",
    "                for line in f:\n",
    "                    txt.write(line)\n",
    "\n",
    "    def words_frequency_list(self, txt_file):\n",
    "        words_freq = []\n",
    "        with open(txt_file) as txt:\n",
    "            next(txt)\n",
    "            for line in txt:\n",
    "                word, frequency = line.split(',')\n",
    "                frequency = int(frequency)\n",
    "                words_freq.append((word, frequency))\n",
    "            return words_freq\n",
    "\n",
    "    def generate_words(self, words_freq):\n",
    "        # Filter words \n",
    "        words_freq = list(filter(lambda w_freq: len(w_freq[0]) == self.word_len, words_freq))\n",
    "\n",
    "        # Sort words\n",
    "        words_freq = sorted(words_freq, key=lambda w_freq: w_freq[1], reverse=True)\n",
    "\n",
    "        # Apply limit\n",
    "        words_freq = words_freq[:self.limit]\n",
    "\n",
    "        # Just words\n",
    "        words = [w_freq[0].upper() for w_freq in words_freq]\n",
    "        words = words\n",
    "\n",
    "        return words\n",
    "\n",
    "    def word_choice(self, words):\n",
    "        word = random.choice(words)\n",
    "        word = word.upper()\n",
    "        return word\n",
    "\n",
    "    def run(self, words, word):\n",
    "        while self.guess_num:\n",
    "\n",
    "            user_guess = input(f'Please enter a word with {self.word_len} letter or (q to quit)')\n",
    "            user_guess = user_guess.upper()\n",
    "\n",
    "            if user_guess == 'Q':\n",
    "                break\n",
    "            \n",
    "            # Check length\n",
    "            if len(user_guess) != self.word_len:\n",
    "                print(f'Enter word with {self.word_len} letter. You entered word with {len(user_guess)} letters')\n",
    "                continue\n",
    "            \n",
    "            # Check valid word\n",
    "            if user_guess not in words:\n",
    "                print(f'Enter valid word')\n",
    "                continue\n",
    "            for w_letter, u_letter in zip(word, user_guess):\n",
    "                if w_letter == u_letter:\n",
    "                    print_correct(f' {u_letter} ')\n",
    "                elif u_letter in word:\n",
    "                    print_warning(f' {u_letter} ')\n",
    "                else:\n",
    "                    print_error(f' {u_letter} ')\n",
    "            print()\n",
    "\n",
    "            if user_guess == word:\n",
    "                print_correct(' Congrdulation! You win :-) ')\n",
    "                break\n",
    "            guess_num -= 1\n",
    "\n",
    "\n"
   ]
  },
  {
   "cell_type": "code",
   "execution_count": 3,
   "metadata": {},
   "outputs": [
    {
     "ename": "UnboundLocalError",
     "evalue": "cannot access local variable 'guess_num' where it is not associated with a value",
     "output_type": "error",
     "traceback": [
      "\u001b[0;31m---------------------------------------------------------------------------\u001b[0m",
      "\u001b[0;31mUnboundLocalError\u001b[0m                         Traceback (most recent call last)",
      "Cell \u001b[0;32mIn[3], line 11\u001b[0m\n\u001b[1;32m      9\u001b[0m words \u001b[38;5;241m=\u001b[39m wordle\u001b[38;5;241m.\u001b[39mgenerate_words(words_freq)\n\u001b[1;32m     10\u001b[0m word \u001b[38;5;241m=\u001b[39m wordle\u001b[38;5;241m.\u001b[39mword_choice(words)\n\u001b[0;32m---> 11\u001b[0m \u001b[43mwordle\u001b[49m\u001b[38;5;241;43m.\u001b[39;49m\u001b[43mrun\u001b[49m\u001b[43m(\u001b[49m\u001b[43mwords\u001b[49m\u001b[43m,\u001b[49m\u001b[43m \u001b[49m\u001b[43mword\u001b[49m\u001b[43m)\u001b[49m\n",
      "Cell \u001b[0;32mIn[2], line 45\u001b[0m, in \u001b[0;36mWordle.run\u001b[0;34m(self, words, word)\u001b[0m\n\u001b[1;32m     44\u001b[0m \u001b[38;5;28;01mdef\u001b[39;00m \u001b[38;5;21mrun\u001b[39m(\u001b[38;5;28mself\u001b[39m, words, word):\n\u001b[0;32m---> 45\u001b[0m     \u001b[38;5;28;01mwhile\u001b[39;00m \u001b[43mguess_num\u001b[49m:\n\u001b[1;32m     47\u001b[0m         user_guess \u001b[38;5;241m=\u001b[39m \u001b[38;5;28minput\u001b[39m(\u001b[38;5;124mf\u001b[39m\u001b[38;5;124m'\u001b[39m\u001b[38;5;124mPlease enter a word with \u001b[39m\u001b[38;5;132;01m{\u001b[39;00m\u001b[38;5;28mself\u001b[39m\u001b[38;5;241m.\u001b[39mword_len\u001b[38;5;132;01m}\u001b[39;00m\u001b[38;5;124m letter or (q to quit)\u001b[39m\u001b[38;5;124m'\u001b[39m)\n\u001b[1;32m     48\u001b[0m         user_guess \u001b[38;5;241m=\u001b[39m user_guess\u001b[38;5;241m.\u001b[39mupper()\n",
      "\u001b[0;31mUnboundLocalError\u001b[0m: cannot access local variable 'guess_num' where it is not associated with a value"
     ]
    }
   ],
   "source": [
    "csv_file = 'unigram_freq.csv'\n",
    "txt_file ='words_frequency.txt'\n",
    "\n",
    "word_len = 5\n",
    "limit = 1000\n",
    "guess_num = 6\n",
    "\n",
    "wordle = Wordle(word_len, limit, guess_num)\n",
    "words_freq = wordle.words_frequency_list(txt_file)\n",
    "words = wordle.generate_words(words_freq)\n",
    "word = wordle.word_choice(words)\n",
    "wordle.run(words, word)"
   ]
  }
 ],
 "metadata": {
  "kernelspec": {
   "display_name": "Python 3",
   "language": "python",
   "name": "python3"
  },
  "language_info": {
   "codemirror_mode": {
    "name": "ipython",
    "version": 3
   },
   "file_extension": ".py",
   "mimetype": "text/x-python",
   "name": "python",
   "nbconvert_exporter": "python",
   "pygments_lexer": "ipython3",
   "version": "3.12.3"
  }
 },
 "nbformat": 4,
 "nbformat_minor": 2
}
