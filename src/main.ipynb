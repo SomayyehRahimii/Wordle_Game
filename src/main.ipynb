{
 "cells": [
  {
   "cell_type": "code",
   "execution_count": 10,
   "metadata": {},
   "outputs": [],
   "source": [
    "import random\n",
    "random.seed(42)"
   ]
  },
  {
   "cell_type": "code",
   "execution_count": 11,
   "metadata": {},
   "outputs": [],
   "source": [
    "def csv_to_txt(csv_file, txt_file):\n",
    "    with open(csv_file, 'r') as f:\n",
    "        with open(txt_file, 'w') as txt:\n",
    "            for line in f:\n",
    "                txt.write(line)\n",
    "\n",
    "def words_frequency_list(txt_file):\n",
    "    words_freq = []\n",
    "    with open(txt_file) as txt:\n",
    "        next(txt)\n",
    "        for line in txt:\n",
    "            word, frequency = line.split(',')\n",
    "            frequency = int(frequency)\n",
    "            words_freq.append((word, frequency))\n",
    "        return words_freq\n",
    "\n",
    "def generate_words(words_freq, word_len, limit):\n",
    "    # Filter words \n",
    "    words_freq = list(filter(lambda w_freq: len(w_freq[0]) == word_len, words_freq))\n",
    "\n",
    "    # Sort words\n",
    "    words_freq = sorted(words_freq, key=lambda w_freq: w_freq[1], reverse=True)\n",
    "\n",
    "    # Apply limit\n",
    "    words_freq = words_freq[:limit]\n",
    "\n",
    "    # Just words\n",
    "    words = [w_freq[0] for w_freq in words_freq]\n",
    "\n",
    "    return words\n",
    "\n",
    "def word_choice(words):\n",
    "    word = random.choice(words)\n",
    "    return word"
   ]
  },
  {
   "cell_type": "code",
   "execution_count": 12,
   "metadata": {},
   "outputs": [
    {
     "data": {
      "text/plain": [
       "'other'"
      ]
     },
     "execution_count": 12,
     "metadata": {},
     "output_type": "execute_result"
    }
   ],
   "source": [
    "csv_file = 'unigram_freq.csv'\n",
    "txt_file ='words_frequency.txt'\n",
    "\n",
    "csv_to_txt(csv_file, txt_file)\n",
    "words_freq = words_frequency_list(txt_file)\n",
    "\n",
    "words = generate_words(words_freq, word_len=5, limit=10)\n",
    "\n",
    "word = word_choice(words)\n",
    "word"
   ]
  }
 ],
 "metadata": {
  "kernelspec": {
   "display_name": "Python 3",
   "language": "python",
   "name": "python3"
  },
  "language_info": {
   "codemirror_mode": {
    "name": "ipython",
    "version": 3
   },
   "file_extension": ".py",
   "mimetype": "text/x-python",
   "name": "python",
   "nbconvert_exporter": "python",
   "pygments_lexer": "ipython3",
   "version": "3.11.3"
  }
 },
 "nbformat": 4,
 "nbformat_minor": 2
}
